{
 "metadata": {
  "name": "",
  "signature": "sha256:b6af70c8447407532e47aa6646094c89ebe4099d9e3aecb4edaad7bbb330ef17"
 },
 "nbformat": 3,
 "nbformat_minor": 0,
 "worksheets": [
  {
   "cells": [
    {
     "cell_type": "code",
     "collapsed": false,
     "input": [
      "import requests\n",
      "import json\n",
      "import time\n",
      "import os\n",
      "\n",
      "# urls=[\n",
      "# 'http://ray-srv.ooi.rutgers.edu:12570/sensor/user/inv/null/CP05MOAS-GL001-00-PARAD0000',\n",
      "# 'http://ray-srv.ooi.rutgers.edu:12570/sensor/user/inv/null/CP05MOAS-GL002-00-CTDGV0000']\n",
      "\n",
      "urls=[  'https://api.github.com/events',\n",
      "        'http://feeds.delicious.com/v2/json/recent',\n",
      "        'hhtps://www.googles.com',\n",
      "        'http://api.ihackernews.com/page']\n",
      "# example urls\n",
      "\n",
      "def get_save_file(urls):\n",
      "#creates a local file and saves the downloaded page as a json in  'cache' subdirectory\n",
      "# prints time( in secs) of the function and what is and what is not saved\n",
      "    \n",
      "\n",
      "\n",
      "\n",
      "    start= time.time()\n",
      "    for url in urls:\n",
      "        try:\n",
      "            resp = requests.get(url)\n",
      "            data = json.dumps(resp.json()) \n",
      "            save_file(data, url)\n",
      "        except IOError:\n",
      "            print\" didn't open URL:\" + url\n",
      "        \n",
      "           \n",
      "    end=time.time()\n",
      "    print end-start\n",
      "\n",
      "\n",
      "        \n",
      "def save_file(data,url):\n",
      "    path = 'cache'\n",
      "# 'path' folder where files are stored\n",
      "    try:\n",
      "#url[-27:] makes CP05MOAS-GL002-00-CTDGV0000 the file name\n",
      "        file_name= url[-2:]+'.json'\n",
      "        \n",
      "        if not os.path.exists(path):\n",
      "            os.makedirs(path)\n",
      "        with open(os.path.join(path, file_name ), 'w') as temp_file:\n",
      "            temp_file.write(data)\n",
      "# creates a 'cache' folder if there is none \n",
      "# saves the file in a 'cache subdirectory'             \n",
      "        print \"saved \" + url\n",
      "                        #url[-27:]\n",
      "    except IOError:\n",
      "        print \"didn't save file:\" + url\n",
      "        #                    url[-27:]    \n",
      "\n",
      "get_save_file(urls)\n",
      "\n",
      "\n",
      "\n"
     ],
     "language": "python",
     "metadata": {},
     "outputs": [
      {
       "output_type": "stream",
       "stream": "stdout",
       "text": [
        "saved https://api.github.com/events\n",
        "saved http://feeds.delicious.com/v2/json/recent"
       ]
      },
      {
       "output_type": "stream",
       "stream": "stdout",
       "text": [
        "\n",
        " didn't open URL:hhtps://www.googles.com\n",
        "saved http://api.ihackernews.com/page"
       ]
      },
      {
       "output_type": "stream",
       "stream": "stdout",
       "text": [
        "\n",
        "0.601332902908\n"
       ]
      }
     ],
     "prompt_number": 1
    },
    {
     "cell_type": "code",
     "collapsed": false,
     "input": [],
     "language": "python",
     "metadata": {},
     "outputs": []
    }
   ],
   "metadata": {}
  }
 ]
}
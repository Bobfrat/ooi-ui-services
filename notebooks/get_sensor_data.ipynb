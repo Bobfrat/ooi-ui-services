{
 "metadata": {
  "name": "",
  "signature": "sha256:3860675e79b8610f02b3704d345f867faf0b57e355a08b4915672b2391155946"
 },
 "nbformat": 3,
 "nbformat_minor": 0,
 "worksheets": [
  {
   "cells": [
    {
     "cell_type": "code",
     "collapsed": false,
     "input": [
      "import requests, json,time, os\n",
      "\n",
      "# urls=[\n",
      "# 'http://ray-srv.ooi.rutgers.edu:12570/sensor/user/inv/null/CP05MOAS-GL001-00-PARAD0000',\n",
      "# 'http://ray-srv.ooi.rutgers.edu:12570/sensor/user/inv/null/CP05MOAS-GL002-00-CTDGV0000']\n",
      "\n",
      "urls=[\t'https://api.github.com/events',\n",
      "\t\t'http://feeds.delicious.com/v2/json/recent',\n",
      "\t\t'hhtps://www.googles.com',\n",
      "\t\t'http://api.ihackernews.com/page']\n",
      "# example urls\n",
      "def get_save_file(urls):\n",
      "#creates a local file and saves the downloaded page as a json in  'cache' subdirectory\n",
      "# prints time( in secs) of the function and what is and what is not saved\n",
      "\tpath = 'cache'\n",
      "# 'path' folder where files are stored\n",
      "\n",
      "\n",
      "\tstart= time.time()\n",
      "\tfor url in urls:\n",
      "\t\ttry:\n",
      "\t\t\tresp = requests.get(url)\n",
      "\t\t\tdata = json.dumps(resp.json()) \n",
      "\t\t\ttry:\n",
      "\n",
      "#url[-27:] makes CP05MOAS-GL002-00-CTDGV0000 the file name\n",
      "\t\t\t\tfile_name= url[-2:]+'.json'\n",
      "\t\t\t\t\n",
      "\t\t\t\tif not os.path.exists(path):\n",
      "\t\t\t\t\tos.makedirs(path)\n",
      "\t\t\t\twith open(os.path.join(path, file_name ), 'w') as temp_file:\n",
      "\t\t\t\t\ttemp_file.write(data)\n",
      "# creates a 'cache' folder if there is none \n",
      "# saves the file in a 'cache subdirectory' \t\t\t\n",
      "\t\t\t\tprint \"saved \" + url\n",
      "\t\t\t\t\t\t\t\t#url[-27:]\n",
      "\t\t\texcept IOError:\n",
      "\t\t\t\tprint \"didn't save file:\" + url\n",
      "\t\t\t\t#\t\t\t\t\turl[-27:]\t\n",
      "\n",
      "\n",
      "\t\texcept IOError:\n",
      "\t\t\tprint\" didn't open URL:\" + url\n",
      "\t\t\n",
      "\n",
      "\tend=time.time()\n",
      "\tprint end-start\n",
      "\n",
      "\n",
      "get_save_file(urls)\n",
      "\n",
      "\n",
      "\n"
     ],
     "language": "python",
     "metadata": {},
     "outputs": [
      {
       "output_type": "stream",
       "stream": "stdout",
       "text": [
        "saved https://api.github.com/events\n",
        "saved http://feeds.delicious.com/v2/json/recent"
       ]
      },
      {
       "output_type": "stream",
       "stream": "stdout",
       "text": [
        "\n",
        " didn't open URL:hhtps://www.googles.com\n",
        "saved http://api.ihackernews.com/page"
       ]
      },
      {
       "output_type": "stream",
       "stream": "stdout",
       "text": [
        "\n",
        "0.601332902908\n"
       ]
      }
     ],
     "prompt_number": 1
    },
    {
     "cell_type": "code",
     "collapsed": false,
     "input": [],
     "language": "python",
     "metadata": {},
     "outputs": []
    }
   ],
   "metadata": {}
  }
 ]
}